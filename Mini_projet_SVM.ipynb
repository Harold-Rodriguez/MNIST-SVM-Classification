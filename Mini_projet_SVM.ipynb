{
  "nbformat": 4,
  "nbformat_minor": 0,
  "metadata": {
    "colab": {
      "name": "Mini_projet_SVM",
      "provenance": [],
      "machine_shape": "hm",
      "authorship_tag": "ABX9TyO4Tvxif8sDM5/9V8o8JBhq",
      "include_colab_link": true
    },
    "kernelspec": {
      "name": "python3",
      "display_name": "Python 3"
    },
    "language_info": {
      "name": "python"
    },
    "accelerator": "GPU"
  },
  "cells": [
    {
      "cell_type": "markdown",
      "metadata": {
        "id": "view-in-github",
        "colab_type": "text"
      },
      "source": [
        "<a href=\"https://colab.research.google.com/github/Harold-Rodriguez/MNIST-SVM-Classification/blob/main/Mini_projet_SVM.ipynb\" target=\"_parent\"><img src=\"https://colab.research.google.com/assets/colab-badge.svg\" alt=\"Open In Colab\"/></a>"
      ]
    },
    {
      "cell_type": "code",
      "source": [
        "import numpy as np\n",
        "from sklearn.datasets import fetch_openml\n",
        "from sklearn.svm import LinearSVC\n",
        "from sklearn.metrics import accuracy_score\n",
        "from sklearn.preprocessing import StandardScaler\n",
        "from sklearn.svm import SVC\n",
        "from sklearn.model_selection import RandomizedSearchCV\n",
        "from scipy.stats import reciprocal, uniform\n",
        "from sklearn.metrics import mean_squared_error"
      ],
      "metadata": {
        "id": "e1GpmvGZ_7s4"
      },
      "execution_count": 1,
      "outputs": []
    },
    {
      "cell_type": "code",
      "execution_count": 2,
      "metadata": {
        "id": "w8bv6Eu2CS-O"
      },
      "outputs": [],
      "source": [
        "mnist = fetch_openml('mnist_784', version=1, cache=True)\n",
        "\n",
        "X = mnist['data']\n",
        "y = mnist['target'].astype(np.uint8)\n",
        "\n",
        "X_train = X[:60000]\n",
        "y_train = y[:60000]\n",
        "X_test = X[60000:]\n",
        "y_test = y[60000:]"
      ]
    },
    {
      "cell_type": "code",
      "source": [
        "lin_clf = LinearSVC(random_state=42)\n",
        "lin_clf.fit(X_train, y_train)"
      ],
      "metadata": {
        "colab": {
          "base_uri": "https://localhost:8080/"
        },
        "id": "Fh3vmyniBQam",
        "outputId": "7c6a9469-1901-416a-c588-4382cef991b5"
      },
      "execution_count": 3,
      "outputs": [
        {
          "output_type": "stream",
          "name": "stderr",
          "text": [
            "/usr/local/lib/python3.7/dist-packages/sklearn/svm/_base.py:1208: ConvergenceWarning: Liblinear failed to converge, increase the number of iterations.\n",
            "  ConvergenceWarning,\n"
          ]
        },
        {
          "output_type": "execute_result",
          "data": {
            "text/plain": [
              "LinearSVC(random_state=42)"
            ]
          },
          "metadata": {},
          "execution_count": 3
        }
      ]
    },
    {
      "cell_type": "code",
      "source": [
        "y_pred = lin_clf.predict(X_train)\n",
        "accuracy_score(y_train, y_pred)"
      ],
      "metadata": {
        "colab": {
          "base_uri": "https://localhost:8080/"
        },
        "id": "CeGhjwI8BnsK",
        "outputId": "543faa8c-7f59-4917-d001-c0c58fd3ef5b"
      },
      "execution_count": 4,
      "outputs": [
        {
          "output_type": "execute_result",
          "data": {
            "text/plain": [
              "0.8348666666666666"
            ]
          },
          "metadata": {},
          "execution_count": 4
        }
      ]
    },
    {
      "cell_type": "code",
      "source": [
        "scaler = StandardScaler()\n",
        "X_train_scaled = scaler.fit_transform(X_train.astype(np.float32))\n",
        "X_test_scaled = scaler.transform(X_test.astype(np.float32))"
      ],
      "metadata": {
        "id": "0ezFWd-SCnzc"
      },
      "execution_count": 5,
      "outputs": []
    },
    {
      "cell_type": "code",
      "source": [
        "lin_clf = LinearSVC(random_state=42)\n",
        "lin_clf.fit(X_train_scaled, y_train)"
      ],
      "metadata": {
        "colab": {
          "base_uri": "https://localhost:8080/"
        },
        "id": "z3lHLefkCvib",
        "outputId": "d4dbf067-ce96-4fde-d5ab-0ba69a46d29d"
      },
      "execution_count": 6,
      "outputs": [
        {
          "output_type": "stream",
          "name": "stderr",
          "text": [
            "/usr/local/lib/python3.7/dist-packages/sklearn/svm/_base.py:1208: ConvergenceWarning: Liblinear failed to converge, increase the number of iterations.\n",
            "  ConvergenceWarning,\n"
          ]
        },
        {
          "output_type": "execute_result",
          "data": {
            "text/plain": [
              "LinearSVC(random_state=42)"
            ]
          },
          "metadata": {},
          "execution_count": 6
        }
      ]
    },
    {
      "cell_type": "code",
      "source": [
        "y_pred = lin_clf.predict(X_train_scaled)\n",
        "accuracy_score(y_train, y_pred)"
      ],
      "metadata": {
        "colab": {
          "base_uri": "https://localhost:8080/"
        },
        "id": "kanZ0p_TDniP",
        "outputId": "ea821c91-a715-43d0-c5c0-80e5603040e1"
      },
      "execution_count": 7,
      "outputs": [
        {
          "output_type": "execute_result",
          "data": {
            "text/plain": [
              "0.9214"
            ]
          },
          "metadata": {},
          "execution_count": 7
        }
      ]
    },
    {
      "cell_type": "code",
      "source": [
        "svm_clf = SVC(gamma=\"scale\")\n",
        "svm_clf.fit(X_train_scaled[:10000], y_train[:10000])"
      ],
      "metadata": {
        "colab": {
          "base_uri": "https://localhost:8080/"
        },
        "id": "RRdXcb9CFbaw",
        "outputId": "46547dd8-955b-4268-9af9-06b56e5e6572"
      },
      "execution_count": 8,
      "outputs": [
        {
          "output_type": "execute_result",
          "data": {
            "text/plain": [
              "SVC()"
            ]
          },
          "metadata": {},
          "execution_count": 8
        }
      ]
    },
    {
      "cell_type": "code",
      "source": [
        "y_pred = svm_clf.predict(X_train_scaled)\n",
        "accuracy_score(y_train, y_pred)"
      ],
      "metadata": {
        "colab": {
          "base_uri": "https://localhost:8080/"
        },
        "id": "G5DyjrJlGWpk",
        "outputId": "be7b0966-a883-468f-d721-3b388069d5eb"
      },
      "execution_count": 9,
      "outputs": [
        {
          "output_type": "execute_result",
          "data": {
            "text/plain": [
              "0.9455333333333333"
            ]
          },
          "metadata": {},
          "execution_count": 9
        }
      ]
    },
    {
      "cell_type": "code",
      "source": [
        "param_distributions = {\"gamma\": reciprocal(0.001, 0.1), \"C\": uniform(1, 10)}\n",
        "rnd_search_cv = RandomizedSearchCV(svm_clf, param_distributions, n_iter=10, verbose=2, cv=3)\n",
        "rnd_search_cv.fit(X_train_scaled[:1000], y_train[:1000])"
      ],
      "metadata": {
        "colab": {
          "base_uri": "https://localhost:8080/"
        },
        "id": "XkSBU5XNG7EZ",
        "outputId": "866241eb-c0c6-4936-8dbe-8bd1560d0b71"
      },
      "execution_count": 10,
      "outputs": [
        {
          "output_type": "stream",
          "name": "stdout",
          "text": [
            "Fitting 3 folds for each of 10 candidates, totalling 30 fits\n",
            "[CV] END ..C=10.649007698832055, gamma=0.0072115711349220206; total time=   0.3s\n",
            "[CV] END ..C=10.649007698832055, gamma=0.0072115711349220206; total time=   0.3s\n",
            "[CV] END ..C=10.649007698832055, gamma=0.0072115711349220206; total time=   0.3s\n",
            "[CV] END .....C=4.065372484882821, gamma=0.01995086491478706; total time=   0.3s\n",
            "[CV] END .....C=4.065372484882821, gamma=0.01995086491478706; total time=   0.3s\n",
            "[CV] END .....C=4.065372484882821, gamma=0.01995086491478706; total time=   0.3s\n",
            "[CV] END ....C=5.589750522311288, gamma=0.002669646986671338; total time=   0.2s\n",
            "[CV] END ....C=5.589750522311288, gamma=0.002669646986671338; total time=   0.2s\n",
            "[CV] END ....C=5.589750522311288, gamma=0.002669646986671338; total time=   0.2s\n",
            "[CV] END ....C=1.3888129744135338, gamma=0.08923853079455421; total time=   0.3s\n",
            "[CV] END ....C=1.3888129744135338, gamma=0.08923853079455421; total time=   0.3s\n",
            "[CV] END ....C=1.3888129744135338, gamma=0.08923853079455421; total time=   0.3s\n",
            "[CV] END ....C=1.2377930044542842, gamma=0.04880878574868295; total time=   0.3s\n",
            "[CV] END ....C=1.2377930044542842, gamma=0.04880878574868295; total time=   0.3s\n",
            "[CV] END ....C=1.2377930044542842, gamma=0.04880878574868295; total time=   0.3s\n",
            "[CV] END ...C=4.681984090721019, gamma=0.0012511447449283424; total time=   0.2s\n",
            "[CV] END ...C=4.681984090721019, gamma=0.0012511447449283424; total time=   0.2s\n",
            "[CV] END ...C=4.681984090721019, gamma=0.0012511447449283424; total time=   0.2s\n",
            "[CV] END ....C=9.820536289577257, gamma=0.052548155884505746; total time=   0.3s\n",
            "[CV] END ....C=9.820536289577257, gamma=0.052548155884505746; total time=   0.3s\n",
            "[CV] END ....C=9.820536289577257, gamma=0.052548155884505746; total time=   0.3s\n",
            "[CV] END ....C=9.239892017851897, gamma=0.007763460759756498; total time=   0.3s\n",
            "[CV] END ....C=9.239892017851897, gamma=0.007763460759756498; total time=   0.3s\n",
            "[CV] END ....C=9.239892017851897, gamma=0.007763460759756498; total time=   0.3s\n",
            "[CV] END ......C=4.26213702032896, gamma=0.09697660038615075; total time=   0.3s\n",
            "[CV] END ......C=4.26213702032896, gamma=0.09697660038615075; total time=   0.3s\n",
            "[CV] END ......C=4.26213702032896, gamma=0.09697660038615075; total time=   0.3s\n",
            "[CV] END ....C=7.914109626816185, gamma=0.004134400076652603; total time=   0.2s\n",
            "[CV] END ....C=7.914109626816185, gamma=0.004134400076652603; total time=   0.2s\n",
            "[CV] END ....C=7.914109626816185, gamma=0.004134400076652603; total time=   0.3s\n"
          ]
        },
        {
          "output_type": "execute_result",
          "data": {
            "text/plain": [
              "RandomizedSearchCV(cv=3, estimator=SVC(),\n",
              "                   param_distributions={'C': <scipy.stats._distn_infrastructure.rv_frozen object at 0x7f9758c62590>,\n",
              "                                        'gamma': <scipy.stats._distn_infrastructure.rv_frozen object at 0x7f9759121850>},\n",
              "                   verbose=2)"
            ]
          },
          "metadata": {},
          "execution_count": 10
        }
      ]
    },
    {
      "cell_type": "code",
      "source": [
        "rnd_search_cv.best_estimator_"
      ],
      "metadata": {
        "colab": {
          "base_uri": "https://localhost:8080/"
        },
        "id": "RkQqbKtBHDIC",
        "outputId": "6ccc0542-a54e-477c-c34f-f3e8bd1e578e"
      },
      "execution_count": 11,
      "outputs": [
        {
          "output_type": "execute_result",
          "data": {
            "text/plain": [
              "SVC(C=4.681984090721019, gamma=0.0012511447449283424)"
            ]
          },
          "metadata": {},
          "execution_count": 11
        }
      ]
    },
    {
      "cell_type": "code",
      "source": [
        "rnd_search_cv.best_score_"
      ],
      "metadata": {
        "colab": {
          "base_uri": "https://localhost:8080/"
        },
        "id": "Y6vOk2CgHD4T",
        "outputId": "7c0041ff-5012-4bf1-cb06-2ffc2892d92b"
      },
      "execution_count": 12,
      "outputs": [
        {
          "output_type": "execute_result",
          "data": {
            "text/plain": [
              "0.8639927352502204"
            ]
          },
          "metadata": {},
          "execution_count": 12
        }
      ]
    },
    {
      "cell_type": "code",
      "source": [
        "rnd_search_cv.best_estimator_.fit(X_train_scaled, y_train)"
      ],
      "metadata": {
        "colab": {
          "base_uri": "https://localhost:8080/"
        },
        "id": "_TGZPyEXHGx4",
        "outputId": "4e9efebf-cdb1-4494-a77b-7cb18ce10a6c"
      },
      "execution_count": 13,
      "outputs": [
        {
          "output_type": "execute_result",
          "data": {
            "text/plain": [
              "SVC(C=4.681984090721019, gamma=0.0012511447449283424)"
            ]
          },
          "metadata": {},
          "execution_count": 13
        }
      ]
    },
    {
      "cell_type": "code",
      "source": [
        "y_pred = rnd_search_cv.best_estimator_.predict(X_train_scaled)\n",
        "mse = mean_squared_error(y_train, y_pred)\n",
        "np.sqrt(mse)"
      ],
      "metadata": {
        "colab": {
          "base_uri": "https://localhost:8080/"
        },
        "id": "Ft3O2t7MHKX_",
        "outputId": "6d612eac-a4f4-4855-a226-96beb82417ea"
      },
      "execution_count": 14,
      "outputs": [
        {
          "output_type": "execute_result",
          "data": {
            "text/plain": [
              "0.2437553418218084"
            ]
          },
          "metadata": {},
          "execution_count": 14
        }
      ]
    },
    {
      "cell_type": "code",
      "source": [
        "y_pred = rnd_search_cv.best_estimator_.predict(X_test_scaled)\n",
        "mse = mean_squared_error(y_test, y_pred)\n",
        "np.sqrt(mse)"
      ],
      "metadata": {
        "colab": {
          "base_uri": "https://localhost:8080/"
        },
        "id": "DK2AuNfNIxXs",
        "outputId": "f5c4bd0a-e1ee-4669-8a0c-c35ba7b434f9"
      },
      "execution_count": 15,
      "outputs": [
        {
          "output_type": "execute_result",
          "data": {
            "text/plain": [
              "0.6736467917239716"
            ]
          },
          "metadata": {},
          "execution_count": 15
        }
      ]
    },
    {
      "cell_type": "code",
      "source": [
        "y_pred = rnd_search_cv.best_estimator_.predict(X_test_scaled)\n",
        "accuracy_score(y_test, y_pred)"
      ],
      "metadata": {
        "colab": {
          "base_uri": "https://localhost:8080/"
        },
        "id": "hjeaIBwNJ3v5",
        "outputId": "a390662c-146c-43be-c2ee-e828797edd94"
      },
      "execution_count": 16,
      "outputs": [
        {
          "output_type": "execute_result",
          "data": {
            "text/plain": [
              "0.9728"
            ]
          },
          "metadata": {},
          "execution_count": 16
        }
      ]
    }
  ]
}