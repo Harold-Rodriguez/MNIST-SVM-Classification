{
  "nbformat": 4,
  "nbformat_minor": 0,
  "metadata": {
    "colab": {
      "name": "Mini_projet_SVM",
      "provenance": [],
      "machine_shape": "hm",
      "authorship_tag": "ABX9TyOPoObCVziA8NjVbclgt40q",
      "include_colab_link": true
    },
    "kernelspec": {
      "name": "python3",
      "display_name": "Python 3"
    },
    "language_info": {
      "name": "python"
    },
    "accelerator": "GPU"
  },
  "cells": [
    {
      "cell_type": "markdown",
      "metadata": {
        "id": "view-in-github",
        "colab_type": "text"
      },
      "source": [
        "<a href=\"https://colab.research.google.com/github/Harold-Rodriguez/MNIST-SVM-Classification/blob/main/Mini_projet_SVM.ipynb\" target=\"_parent\"><img src=\"https://colab.research.google.com/assets/colab-badge.svg\" alt=\"Open In Colab\"/></a>"
      ]
    },
    {
      "cell_type": "markdown",
      "source": [
        "# Packages"
      ],
      "metadata": {
        "id": "sRCyY2gAxSfn"
      }
    },
    {
      "cell_type": "code",
      "source": [
        "import numpy as np\n",
        "from sklearn.datasets import fetch_openml\n",
        "from sklearn.svm import LinearSVC\n",
        "from sklearn.metrics import accuracy_score\n",
        "from sklearn.preprocessing import StandardScaler\n",
        "from sklearn.svm import SVC\n",
        "from sklearn.model_selection import RandomizedSearchCV\n",
        "from scipy.stats import reciprocal, uniform\n",
        "from sklearn.metrics import mean_squared_error\n",
        "from sklearn.multiclass import OneVsOneClassifier\n",
        "from sklearn.metrics import plot_confusion_matrix\n",
        "from mlxtend.plotting import plot_decision_regions\n",
        "import matplotlib.pyplot as plt"
      ],
      "metadata": {
        "id": "e1GpmvGZ_7s4"
      },
      "execution_count": 41,
      "outputs": []
    },
    {
      "cell_type": "markdown",
      "source": [
        "# Dataset"
      ],
      "metadata": {
        "id": "bHe5YE6txbBU"
      }
    },
    {
      "cell_type": "code",
      "execution_count": 18,
      "metadata": {
        "id": "w8bv6Eu2CS-O"
      },
      "outputs": [],
      "source": [
        "mnist = fetch_openml('mnist_784', version=1, cache=True)\n",
        "\n",
        "X = mnist['data']\n",
        "y = mnist['target'].astype(np.uint8)\n",
        "\n",
        "X_train = X[:60000]\n",
        "y_train = y[:60000]\n",
        "X_test = X[60000:]\n",
        "y_test = y[60000:]"
      ]
    },
    {
      "cell_type": "markdown",
      "source": [
        "# Classifier"
      ],
      "metadata": {
        "id": "MKoXjCcxxsK_"
      }
    },
    {
      "cell_type": "code",
      "source": [
        "lin_clf = LinearSVC(random_state=42)\n",
        "lin_clf.fit(X_train, y_train)"
      ],
      "metadata": {
        "colab": {
          "base_uri": "https://localhost:8080/"
        },
        "id": "Fh3vmyniBQam",
        "outputId": "f9607a6e-375e-4546-d668-bffc8dea2314"
      },
      "execution_count": 19,
      "outputs": [
        {
          "output_type": "stream",
          "name": "stderr",
          "text": [
            "/usr/local/lib/python3.7/dist-packages/sklearn/svm/_base.py:1208: ConvergenceWarning: Liblinear failed to converge, increase the number of iterations.\n",
            "  ConvergenceWarning,\n"
          ]
        },
        {
          "output_type": "execute_result",
          "data": {
            "text/plain": [
              "LinearSVC(random_state=42)"
            ]
          },
          "metadata": {},
          "execution_count": 19
        }
      ]
    },
    {
      "cell_type": "code",
      "source": [
        "y_pred = lin_clf.predict(X_train)\n",
        "accuracy_score(y_train, y_pred)"
      ],
      "metadata": {
        "colab": {
          "base_uri": "https://localhost:8080/"
        },
        "id": "CeGhjwI8BnsK",
        "outputId": "624cc46b-2fea-409a-e471-e49f8218463f"
      },
      "execution_count": 20,
      "outputs": [
        {
          "output_type": "execute_result",
          "data": {
            "text/plain": [
              "0.8348666666666666"
            ]
          },
          "metadata": {},
          "execution_count": 20
        }
      ]
    },
    {
      "cell_type": "markdown",
      "source": [
        "Le score de précision est de 83,48, nous allons ensuite mettre à l'échelle l'ensemble de données d'entraînement pour avoir de meilleures prédictions"
      ],
      "metadata": {
        "id": "2R04aDFqzDEx"
      }
    },
    {
      "cell_type": "code",
      "source": [
        "scaler = StandardScaler()\n",
        "X_train_scaled = scaler.fit_transform(X_train.astype(np.float32))\n",
        "X_test_scaled = scaler.transform(X_test.astype(np.float32))"
      ],
      "metadata": {
        "id": "0ezFWd-SCnzc"
      },
      "execution_count": 21,
      "outputs": []
    },
    {
      "cell_type": "code",
      "source": [
        "lin_clf = LinearSVC(random_state=42)\n",
        "lin_clf.fit(X_train_scaled, y_train)"
      ],
      "metadata": {
        "colab": {
          "base_uri": "https://localhost:8080/"
        },
        "id": "z3lHLefkCvib",
        "outputId": "97413356-7044-4533-8857-20adec8efb16"
      },
      "execution_count": 22,
      "outputs": [
        {
          "output_type": "stream",
          "name": "stderr",
          "text": [
            "/usr/local/lib/python3.7/dist-packages/sklearn/svm/_base.py:1208: ConvergenceWarning: Liblinear failed to converge, increase the number of iterations.\n",
            "  ConvergenceWarning,\n"
          ]
        },
        {
          "output_type": "execute_result",
          "data": {
            "text/plain": [
              "LinearSVC(random_state=42)"
            ]
          },
          "metadata": {},
          "execution_count": 22
        }
      ]
    },
    {
      "cell_type": "code",
      "source": [
        "y_pred = lin_clf.predict(X_train_scaled)\n",
        "accuracy_score(y_train, y_pred)"
      ],
      "metadata": {
        "colab": {
          "base_uri": "https://localhost:8080/"
        },
        "id": "kanZ0p_TDniP",
        "outputId": "4a170aef-c6d4-4c2c-ec35-4ac580215bfc"
      },
      "execution_count": 23,
      "outputs": [
        {
          "output_type": "execute_result",
          "data": {
            "text/plain": [
              "0.9214"
            ]
          },
          "metadata": {},
          "execution_count": 23
        }
      ]
    },
    {
      "cell_type": "markdown",
      "source": [
        "Le score de accuracy es maintenant  de 92,14, ce qui est mieux qu'avant."
      ],
      "metadata": {
        "id": "9AyxJKb4z9R0"
      }
    },
    {
      "cell_type": "markdown",
      "source": [
        "## Ensuite, nous ajouterons un Kernel"
      ],
      "metadata": {
        "id": "NUbHdUO60e4Q"
      }
    },
    {
      "cell_type": "code",
      "source": [
        "svm_clf = SVC(gamma=\"scale\")\n",
        "svm_clf.fit(X_train_scaled[:10000], y_train[:10000])"
      ],
      "metadata": {
        "colab": {
          "base_uri": "https://localhost:8080/"
        },
        "id": "RRdXcb9CFbaw",
        "outputId": "13352418-7501-4792-cdc7-c6ec24a993c9"
      },
      "execution_count": 24,
      "outputs": [
        {
          "output_type": "execute_result",
          "data": {
            "text/plain": [
              "SVC()"
            ]
          },
          "metadata": {},
          "execution_count": 24
        }
      ]
    },
    {
      "cell_type": "code",
      "source": [
        "y_pred = svm_clf.predict(X_train_scaled)\n",
        "accuracy_score(y_train, y_pred)"
      ],
      "metadata": {
        "colab": {
          "base_uri": "https://localhost:8080/"
        },
        "id": "G5DyjrJlGWpk",
        "outputId": "46911594-3d3e-40a3-ae4f-520562fd8daa"
      },
      "execution_count": 25,
      "outputs": [
        {
          "output_type": "execute_result",
          "data": {
            "text/plain": [
              "0.9455333333333333"
            ]
          },
          "metadata": {},
          "execution_count": 25
        }
      ]
    },
    {
      "cell_type": "markdown",
      "source": [
        "Avec l'addition d'un Kernel on a une amélioration du resultat pasant à 94,55%"
      ],
      "metadata": {
        "id": "uO_6afWR1j_t"
      }
    },
    {
      "cell_type": "markdown",
      "source": [
        "# Hyperparametres"
      ],
      "metadata": {
        "id": "zbZ7VCQ_1-44"
      }
    },
    {
      "cell_type": "markdown",
      "source": [
        "À l'aide de la technique de validation croisée on va utiliserpetits ensembles de données et vérifions différentes valeurs d'hyperparamètres sur ces petits ensembles de données et répétons cet exercice plusieurs fois. \n",
        "\n",
        "Ensuite, on va trouver les meilleures valeurs de chaque hyperparamètre."
      ],
      "metadata": {
        "id": "uf8mYZjo3GTN"
      }
    },
    {
      "cell_type": "code",
      "source": [
        "param_distributions = {\"gamma\": reciprocal(0.001, 0.1), \"C\": uniform(1, 10)}\n",
        "rnd_search_cv = RandomizedSearchCV(svm_clf, param_distributions, n_iter=10, verbose=2, cv=3)\n",
        "rnd_search_cv.fit(X_train_scaled[:1000], y_train[:1000])"
      ],
      "metadata": {
        "colab": {
          "base_uri": "https://localhost:8080/"
        },
        "id": "XkSBU5XNG7EZ",
        "outputId": "e00f4f9e-8673-4d20-af38-6c0718b49c8e"
      },
      "execution_count": 26,
      "outputs": [
        {
          "output_type": "stream",
          "name": "stdout",
          "text": [
            "Fitting 3 folds for each of 10 candidates, totalling 30 fits\n",
            "[CV] END ....C=9.437655823275104, gamma=0.004847174406028079; total time=   0.3s\n",
            "[CV] END ....C=9.437655823275104, gamma=0.004847174406028079; total time=   0.3s\n",
            "[CV] END ....C=9.437655823275104, gamma=0.004847174406028079; total time=   0.3s\n",
            "[CV] END ......C=3.141791304040356, gamma=0.0810504100536601; total time=   0.3s\n",
            "[CV] END ......C=3.141791304040356, gamma=0.0810504100536601; total time=   0.3s\n",
            "[CV] END ......C=3.141791304040356, gamma=0.0810504100536601; total time=   0.3s\n",
            "[CV] END ..C=1.7633969734409496, gamma=0.0020959796571455983; total time=   0.2s\n",
            "[CV] END ..C=1.7633969734409496, gamma=0.0020959796571455983; total time=   0.2s\n",
            "[CV] END ..C=1.7633969734409496, gamma=0.0020959796571455983; total time=   0.2s\n",
            "[CV] END ....C=4.372491493414181, gamma=0.012431298254009137; total time=   0.3s\n",
            "[CV] END ....C=4.372491493414181, gamma=0.012431298254009137; total time=   0.3s\n",
            "[CV] END ....C=4.372491493414181, gamma=0.012431298254009137; total time=   0.3s\n",
            "[CV] END ..C=1.9337792507629117, gamma=0.0011605625541149555; total time=   0.2s\n",
            "[CV] END ..C=1.9337792507629117, gamma=0.0011605625541149555; total time=   0.2s\n",
            "[CV] END ..C=1.9337792507629117, gamma=0.0011605625541149555; total time=   0.2s\n",
            "[CV] END ....C=8.659780449922016, gamma=0.001111357709887107; total time=   0.2s\n",
            "[CV] END ....C=8.659780449922016, gamma=0.001111357709887107; total time=   0.2s\n",
            "[CV] END ....C=8.659780449922016, gamma=0.001111357709887107; total time=   0.2s\n",
            "[CV] END ....C=4.4634729375989695, gamma=0.07709929749736105; total time=   0.3s\n",
            "[CV] END ....C=4.4634729375989695, gamma=0.07709929749736105; total time=   0.3s\n",
            "[CV] END ....C=4.4634729375989695, gamma=0.07709929749736105; total time=   0.3s\n",
            "[CV] END ..C=7.8088956251141965, gamma=0.0018340259005365446; total time=   0.2s\n",
            "[CV] END ..C=7.8088956251141965, gamma=0.0018340259005365446; total time=   0.2s\n",
            "[CV] END ..C=7.8088956251141965, gamma=0.0018340259005365446; total time=   0.2s\n",
            "[CV] END ....C=10.25173577974791, gamma=0.001751705394609473; total time=   0.2s\n",
            "[CV] END ....C=10.25173577974791, gamma=0.001751705394609473; total time=   0.2s\n",
            "[CV] END ....C=10.25173577974791, gamma=0.001751705394609473; total time=   0.2s\n",
            "[CV] END .....C=5.515635568000342, gamma=0.03377292570718623; total time=   0.3s\n",
            "[CV] END .....C=5.515635568000342, gamma=0.03377292570718623; total time=   0.3s\n",
            "[CV] END .....C=5.515635568000342, gamma=0.03377292570718623; total time=   0.3s\n"
          ]
        },
        {
          "output_type": "execute_result",
          "data": {
            "text/plain": [
              "RandomizedSearchCV(cv=3, estimator=SVC(),\n",
              "                   param_distributions={'C': <scipy.stats._distn_infrastructure.rv_frozen object at 0x7f9758c7b790>,\n",
              "                                        'gamma': <scipy.stats._distn_infrastructure.rv_frozen object at 0x7f9758c7b310>},\n",
              "                   verbose=2)"
            ]
          },
          "metadata": {},
          "execution_count": 26
        }
      ]
    },
    {
      "cell_type": "code",
      "source": [
        "rnd_search_cv.best_estimator_"
      ],
      "metadata": {
        "colab": {
          "base_uri": "https://localhost:8080/"
        },
        "id": "RkQqbKtBHDIC",
        "outputId": "ef656957-585f-476a-fcb1-ebecd65fcb07"
      },
      "execution_count": 27,
      "outputs": [
        {
          "output_type": "execute_result",
          "data": {
            "text/plain": [
              "SVC(C=8.659780449922016, gamma=0.001111357709887107)"
            ]
          },
          "metadata": {},
          "execution_count": 27
        }
      ]
    },
    {
      "cell_type": "code",
      "source": [
        "rnd_search_cv.best_score_"
      ],
      "metadata": {
        "colab": {
          "base_uri": "https://localhost:8080/"
        },
        "id": "Y6vOk2CgHD4T",
        "outputId": "b6a86151-13b2-42ed-9507-23d79e0b3b30"
      },
      "execution_count": 28,
      "outputs": [
        {
          "output_type": "execute_result",
          "data": {
            "text/plain": [
              "0.8619907332482183"
            ]
          },
          "metadata": {},
          "execution_count": 28
        }
      ]
    },
    {
      "cell_type": "code",
      "source": [
        "rnd_search_cv.best_estimator_.fit(X_train_scaled, y_train)"
      ],
      "metadata": {
        "colab": {
          "base_uri": "https://localhost:8080/"
        },
        "id": "_TGZPyEXHGx4",
        "outputId": "ab474654-1b3e-4c05-e6e4-b3a0fb378bc1"
      },
      "execution_count": 29,
      "outputs": [
        {
          "output_type": "execute_result",
          "data": {
            "text/plain": [
              "SVC(C=8.659780449922016, gamma=0.001111357709887107)"
            ]
          },
          "metadata": {},
          "execution_count": 29
        }
      ]
    },
    {
      "cell_type": "code",
      "source": [
        "y_pred = rnd_search_cv.best_estimator_.predict(X_train_scaled)\n",
        "mse = mean_squared_error(y_train, y_pred)\n",
        "np.sqrt(mse)"
      ],
      "metadata": {
        "colab": {
          "base_uri": "https://localhost:8080/"
        },
        "id": "Ft3O2t7MHKX_",
        "outputId": "b46add4e-2f7f-4854-9533-05677284fd6b"
      },
      "execution_count": 30,
      "outputs": [
        {
          "output_type": "execute_result",
          "data": {
            "text/plain": [
              "0.18748333259252675"
            ]
          },
          "metadata": {},
          "execution_count": 30
        }
      ]
    },
    {
      "cell_type": "code",
      "source": [
        "y_pred = rnd_search_cv.best_estimator_.predict(X_test_scaled)\n",
        "mse = mean_squared_error(y_test, y_pred)\n",
        "np.sqrt(mse)"
      ],
      "metadata": {
        "colab": {
          "base_uri": "https://localhost:8080/"
        },
        "id": "DK2AuNfNIxXs",
        "outputId": "acec1d54-e5ee-4cb9-da17-54798d6d2112"
      },
      "execution_count": 34,
      "outputs": [
        {
          "output_type": "execute_result",
          "data": {
            "text/plain": [
              "0.6668583057891684"
            ]
          },
          "metadata": {},
          "execution_count": 34
        }
      ]
    },
    {
      "cell_type": "code",
      "source": [
        "y_pred = rnd_search_cv.best_estimator_.predict(X_test_scaled)\n",
        "accuracy_score(y_test, y_pred)"
      ],
      "metadata": {
        "colab": {
          "base_uri": "https://localhost:8080/"
        },
        "id": "hjeaIBwNJ3v5",
        "outputId": "0f689586-f036-4beb-e4b4-c943bc063fed"
      },
      "execution_count": 33,
      "outputs": [
        {
          "output_type": "execute_result",
          "data": {
            "text/plain": [
              "0.9733"
            ]
          },
          "metadata": {},
          "execution_count": 33
        }
      ]
    },
    {
      "cell_type": "markdown",
      "source": [
        " Nous obtenons une amélioration et obtenons 97,33"
      ],
      "metadata": {
        "id": "IlUurEsv5EFf"
      }
    },
    {
      "cell_type": "markdown",
      "source": [
        "# One-vs-One (OvO) Classification"
      ],
      "metadata": {
        "id": "NkmG8yl86ADS"
      }
    },
    {
      "cell_type": "code",
      "source": [
        "svm = LinearSVC(random_state=42)\n",
        "ovo_classifier = OneVsOneClassifier(svm)"
      ],
      "metadata": {
        "id": "QeDJsjom6CYP"
      },
      "execution_count": 36,
      "outputs": []
    },
    {
      "cell_type": "code",
      "source": [
        "ovo_classifier = ovo_classifier.fit(X_train_scaled, y_train)"
      ],
      "metadata": {
        "id": "4pD_dESR7l3E"
      },
      "execution_count": null,
      "outputs": []
    },
    {
      "cell_type": "code",
      "source": [
        "y_pred_ovo = ovo_classifier.predict(X_train_scaled)\n",
        "accuracy_score(y_train, y_pred_ovo)"
      ],
      "metadata": {
        "colab": {
          "base_uri": "https://localhost:8080/"
        },
        "id": "RphSWdRU8NBQ",
        "outputId": "20a623b8-d874-4585-e97a-8218134cd5cb"
      },
      "execution_count": 45,
      "outputs": [
        {
          "output_type": "execute_result",
          "data": {
            "text/plain": [
              "0.9768166666666667"
            ]
          },
          "metadata": {},
          "execution_count": 45
        }
      ]
    },
    {
      "cell_type": "code",
      "source": [
        "fig, (ax1, ax2) = plt.subplots(1, 2, figsize=(20, 7))\n",
        "matrix_ovo = plot_confusion_matrix(ovo_classifier, X_test_scaled, y_test,\n",
        "                                 cmap=plt.cm.Blues,\n",
        "                                 normalize='true', ax=ax1)\n",
        "\n",
        "matrix_ova = plot_confusion_matrix(svm_clf, X_test_scaled, y_test,\n",
        "                                 cmap=plt.cm.Reds,\n",
        "                                 normalize='true', ax=ax2)\n",
        "#plt.figure(figsize=(30, 20))\n",
        "#plt.title('Confusion matrix for OvO classifier')\n",
        "ax1.set_title('Confusion matrix for OvO classifier')\n",
        "ax2.set_title('Confusion matrix for OvA classifier')\n",
        "plt.show(matrix_ovo)\n",
        "plt.show(matrix_ova)\n",
        "plt.show()"
      ],
      "metadata": {
        "colab": {
          "base_uri": "https://localhost:8080/",
          "height": 547
        },
        "id": "ZQ2NnjNQ-QSQ",
        "outputId": "d19417bf-b850-47a7-cc61-2e2b74054f88"
      },
      "execution_count": 84,
      "outputs": [
        {
          "output_type": "stream",
          "name": "stderr",
          "text": [
            "/usr/local/lib/python3.7/dist-packages/sklearn/utils/deprecation.py:87: FutureWarning: Function plot_confusion_matrix is deprecated; Function `plot_confusion_matrix` is deprecated in 1.0 and will be removed in 1.2. Use one of the class methods: ConfusionMatrixDisplay.from_predictions or ConfusionMatrixDisplay.from_estimator.\n",
            "  warnings.warn(msg, category=FutureWarning)\n",
            "/usr/local/lib/python3.7/dist-packages/sklearn/utils/deprecation.py:87: FutureWarning: Function plot_confusion_matrix is deprecated; Function `plot_confusion_matrix` is deprecated in 1.0 and will be removed in 1.2. Use one of the class methods: ConfusionMatrixDisplay.from_predictions or ConfusionMatrixDisplay.from_estimator.\n",
            "  warnings.warn(msg, category=FutureWarning)\n"
          ]
        },
        {
          "output_type": "display_data",
          "data": {
            "text/plain": [
              "<Figure size 1440x504 with 4 Axes>"
            ],
            "image/png": "[encoded data removed]"
          },
          "metadata": {
            "needs_background": "light"
          }
        }
      ]
    }
  ]
}